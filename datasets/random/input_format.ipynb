{
 "cells": [
  {
   "cell_type": "code",
   "execution_count": 1,
   "id": "5a0ab24a",
   "metadata": {},
   "outputs": [
    {
     "name": "stderr",
     "output_type": "stream",
     "text": [
      "/Users/b.madran/miniconda3/envs/protein_pred/lib/python3.11/site-packages/tqdm/auto.py:21: TqdmWarning: IProgress not found. Please update jupyter and ipywidgets. See https://ipywidgets.readthedocs.io/en/stable/user_install.html\n",
      "  from .autonotebook import tqdm as notebook_tqdm\n"
     ]
    }
   ],
   "source": [
    "import random\n",
    "import numpy as np\n",
    "import torch\n",
    "import pandas as pd\n",
    "import os\n",
    "import matplotlib.pyplot as plt\n",
    "import seaborn as sns\n",
    "from transformers import T5Tokenizer, T5EncoderModel\n",
    "import torch\n",
    "import re"
   ]
  },
  {
   "cell_type": "code",
   "execution_count": 30,
   "id": "91d005b9",
   "metadata": {},
   "outputs": [],
   "source": [
    "seq1 = [\"SDKPKRPSDKPKRPSDKPKRP\"]\n",
    "seq2 = [\"MGSSMGSS\"]\n",
    "device = torch.device('cuda:0' if torch.cuda.is_available() else 'cpu')\n",
    "tokenizer = T5Tokenizer.from_pretrained('Rostlab/prot_t5_xl_half_uniref50-enc', do_lower_case=False)\n",
    "model = T5EncoderModel.from_pretrained(\"Rostlab/prot_t5_xl_half_uniref50-enc\").to(device)\n",
    "if device == torch.device(\"cpu\"):\n",
    "    model.to(torch.float32)\n",
    "\n",
    "\n",
    "# replace all rare/ambiguous amino acids by X and introduce white-space between all amino acids\n",
    "sequence_examples_1 = [\" \".join(list(re.sub(r\"[UZOB]\", \"X\", sequence))) for sequence in seq1]\n",
    "sequence_examples_2 = [\" \".join(list(re.sub(r\"[UZOB]\", \"X\", sequence))) for sequence in seq2]\n",
    "\n",
    "# tokenize sequences and pad up to the longest sequence in the batch\n",
    "ids_1 = tokenizer(sequence_examples_1, add_special_tokens=True, padding=\"longest\")\n",
    "ids_2 = tokenizer(sequence_examples_2, add_special_tokens=True, padding=\"longest\")\n",
    "\n",
    "input_ids_1 = torch.tensor(ids_1['input_ids']).to(device)\n",
    "attention_mask_1 = torch.tensor(ids_1['attention_mask']).to(device)\n",
    "# generate embeddings\n",
    "with torch.no_grad():\n",
    "    embedding_repr_1 = model(input_ids=input_ids_1, attention_mask=attention_mask_1)\n",
    "    \n",
    "input_ids_2 = torch.tensor(ids_2['input_ids']).to(device)\n",
    "attention_mask_2 = torch.tensor(ids_2['attention_mask']).to(device)\n",
    "# generate embeddings\n",
    "with torch.no_grad():\n",
    "    embedding_repr_2 = model(input_ids=input_ids_2, attention_mask=attention_mask_2)"
   ]
  },
  {
   "cell_type": "code",
   "execution_count": 31,
   "id": "0c8526c9",
   "metadata": {},
   "outputs": [
    {
     "data": {
      "text/plain": [
       "torch.Size([22, 1024])"
      ]
     },
     "execution_count": 31,
     "metadata": {},
     "output_type": "execute_result"
    }
   ],
   "source": [
    "embedding_repr_1[\"last_hidden_state\"][0].size()\n"
   ]
  },
  {
   "cell_type": "code",
   "execution_count": 32,
   "id": "71ee60ba",
   "metadata": {},
   "outputs": [],
   "source": [
    "emb1 = embedding_repr_1[\"last_hidden_state\"][0]\n",
    "emb2 = embedding_repr_2[\"last_hidden_state\"][0]"
   ]
  },
  {
   "cell_type": "code",
   "execution_count": 33,
   "id": "0dcf3fe8",
   "metadata": {},
   "outputs": [],
   "source": [
    "# Set random seed for reproducibility\n",
    "random.seed(42)\n",
    "np.random.seed(42)\n",
    "n_samples = 100\n",
    "domainIDs = [i for i in range(n_samples)]\n",
    "proteinIDs = [i for i in range(n_samples)]\n",
    "startDomains = [random.randint(0, 100) for _ in range(n_samples)]\n",
    "endDomains = [start + random.randint(20, 200) for start in startDomains]\n",
    "\n",
    "embeddings = []\n",
    "for _ in range(50):\n",
    "    embeddings.append(emb1)\n",
    "    embeddings.append(emb2)\n",
    "\n",
    "labels_c = [random.randint(0, 3) for _ in range(n_samples)]\n",
    "y_c = pd.DataFrame({\n",
    "    \"domainID\": domainIDs,\n",
    "    \"C\": labels_c\n",
    "})\n",
    "# Create the DataFrame\n",
    "x_c = pd.DataFrame({\n",
    "    \"domainID\": domainIDs,\n",
    "    \"proteinID\": proteinIDs,\n",
    "    \"startDomain\": startDomains,\n",
    "    \"endDomain\": endDomains,\n",
    "    \"embedding\": embeddings\n",
    "})\n"
   ]
  },
  {
   "cell_type": "code",
   "execution_count": 34,
   "id": "2b5b1611",
   "metadata": {},
   "outputs": [
    {
     "data": {
      "text/html": [
       "<div>\n",
       "<style scoped>\n",
       "    .dataframe tbody tr th:only-of-type {\n",
       "        vertical-align: middle;\n",
       "    }\n",
       "\n",
       "    .dataframe tbody tr th {\n",
       "        vertical-align: top;\n",
       "    }\n",
       "\n",
       "    .dataframe thead th {\n",
       "        text-align: right;\n",
       "    }\n",
       "</style>\n",
       "<table border=\"1\" class=\"dataframe\">\n",
       "  <thead>\n",
       "    <tr style=\"text-align: right;\">\n",
       "      <th></th>\n",
       "      <th>domainID</th>\n",
       "      <th>proteinID</th>\n",
       "      <th>startDomain</th>\n",
       "      <th>endDomain</th>\n",
       "      <th>embedding</th>\n",
       "    </tr>\n",
       "  </thead>\n",
       "  <tbody>\n",
       "    <tr>\n",
       "      <th>0</th>\n",
       "      <td>0</td>\n",
       "      <td>0</td>\n",
       "      <td>81</td>\n",
       "      <td>219</td>\n",
       "      <td>[[tensor(0.6129), tensor(-0.0156), tensor(0.02...</td>\n",
       "    </tr>\n",
       "    <tr>\n",
       "      <th>1</th>\n",
       "      <td>1</td>\n",
       "      <td>1</td>\n",
       "      <td>14</td>\n",
       "      <td>131</td>\n",
       "      <td>[[tensor(0.2253), tensor(0.0692), tensor(-0.27...</td>\n",
       "    </tr>\n",
       "    <tr>\n",
       "      <th>2</th>\n",
       "      <td>2</td>\n",
       "      <td>2</td>\n",
       "      <td>3</td>\n",
       "      <td>92</td>\n",
       "      <td>[[tensor(0.6129), tensor(-0.0156), tensor(0.02...</td>\n",
       "    </tr>\n",
       "  </tbody>\n",
       "</table>\n",
       "</div>"
      ],
      "text/plain": [
       "   domainID  proteinID  startDomain  endDomain  \\\n",
       "0         0          0           81        219   \n",
       "1         1          1           14        131   \n",
       "2         2          2            3         92   \n",
       "\n",
       "                                           embedding  \n",
       "0  [[tensor(0.6129), tensor(-0.0156), tensor(0.02...  \n",
       "1  [[tensor(0.2253), tensor(0.0692), tensor(-0.27...  \n",
       "2  [[tensor(0.6129), tensor(-0.0156), tensor(0.02...  "
      ]
     },
     "execution_count": 34,
     "metadata": {},
     "output_type": "execute_result"
    }
   ],
   "source": [
    "x_c.head(3)"
   ]
  },
  {
   "cell_type": "code",
   "execution_count": 35,
   "id": "ec27c5e3",
   "metadata": {},
   "outputs": [
    {
     "data": {
      "text/html": [
       "<div>\n",
       "<style scoped>\n",
       "    .dataframe tbody tr th:only-of-type {\n",
       "        vertical-align: middle;\n",
       "    }\n",
       "\n",
       "    .dataframe tbody tr th {\n",
       "        vertical-align: top;\n",
       "    }\n",
       "\n",
       "    .dataframe thead th {\n",
       "        text-align: right;\n",
       "    }\n",
       "</style>\n",
       "<table border=\"1\" class=\"dataframe\">\n",
       "  <thead>\n",
       "    <tr style=\"text-align: right;\">\n",
       "      <th></th>\n",
       "      <th>domainID</th>\n",
       "      <th>C</th>\n",
       "    </tr>\n",
       "  </thead>\n",
       "  <tbody>\n",
       "    <tr>\n",
       "      <th>0</th>\n",
       "      <td>0</td>\n",
       "      <td>0</td>\n",
       "    </tr>\n",
       "    <tr>\n",
       "      <th>1</th>\n",
       "      <td>1</td>\n",
       "      <td>0</td>\n",
       "    </tr>\n",
       "    <tr>\n",
       "      <th>2</th>\n",
       "      <td>2</td>\n",
       "      <td>3</td>\n",
       "    </tr>\n",
       "  </tbody>\n",
       "</table>\n",
       "</div>"
      ],
      "text/plain": [
       "   domainID  C\n",
       "0         0  0\n",
       "1         1  0\n",
       "2         2  3"
      ]
     },
     "execution_count": 35,
     "metadata": {},
     "output_type": "execute_result"
    }
   ],
   "source": [
    "y_c.head(3)"
   ]
  },
  {
   "cell_type": "code",
   "execution_count": 36,
   "id": "fb1a3589",
   "metadata": {},
   "outputs": [],
   "source": [
    "x_c.to_pickle(\"xc.pkl\")\n",
    "y_c.to_pickle(\"yc.pkl\")"
   ]
  }
 ],
 "metadata": {
  "kernelspec": {
   "display_name": "protein_pred",
   "language": "python",
   "name": "python3"
  },
  "language_info": {
   "codemirror_mode": {
    "name": "ipython",
    "version": 3
   },
   "file_extension": ".py",
   "mimetype": "text/x-python",
   "name": "python",
   "nbconvert_exporter": "python",
   "pygments_lexer": "ipython3",
   "version": "3.11.11"
  }
 },
 "nbformat": 4,
 "nbformat_minor": 5
}
